{
 "cells": [
  {
   "cell_type": "markdown",
   "metadata": {},
   "source": [
    "python report\n",
    "\n",
    "# Automatic Reporting in Python - Part 1: From Planning to Hello World\n",
    "https://dev.to/goyder/automatic-reporting-in-python---part-1-from-planning-to-hello-world-32n1\n",
    "    \n",
    "# Python PDF Reports in Python\n",
    "https://plot.ly/python/pdf-reports/\n",
    "    \n",
    "# Creating PDF Reports with Pandas, Jinja and WeasyPrint\n",
    "http://pbpython.com/pdf-reports.html\n",
    "    \n",
    "    \n",
    "\n",
    "    "
   ]
  },
  {
   "cell_type": "code",
   "execution_count": 102,
   "metadata": {},
   "outputs": [],
   "source": [
    "from __future__ import print_function\n",
    "import pandas as pd\n",
    "import numpy as np\n",
    "\n"
   ]
  },
  {
   "cell_type": "code",
   "execution_count": 103,
   "metadata": {},
   "outputs": [],
   "source": [
    "adsl = pd.read_sas(\"./ADaM/adsl.xpt\")"
   ]
  },
  {
   "cell_type": "code",
   "execution_count": 104,
   "metadata": {},
   "outputs": [
    {
     "data": {
      "text/plain": [
       "['STUDYID',\n",
       " 'USUBJID',\n",
       " 'SUBJID',\n",
       " 'SITEID',\n",
       " 'SITEGR1',\n",
       " 'ARM',\n",
       " 'TRT01P',\n",
       " 'TRT01PN',\n",
       " 'TRT01A',\n",
       " 'TRT01AN',\n",
       " 'TRTSDT',\n",
       " 'TRTEDT',\n",
       " 'TRTDURD',\n",
       " 'AVGDD',\n",
       " 'CUMDOSE',\n",
       " 'AGE',\n",
       " 'AGEGR1',\n",
       " 'AGEGR1N',\n",
       " 'AGEU',\n",
       " 'RACE',\n",
       " 'RACEN',\n",
       " 'SEX',\n",
       " 'ETHNIC',\n",
       " 'SAFFL',\n",
       " 'ITTFL',\n",
       " 'EFFFL',\n",
       " 'COMP8FL',\n",
       " 'COMP16FL',\n",
       " 'COMP24FL',\n",
       " 'DISCONFL',\n",
       " 'DSRAEFL',\n",
       " 'DTHFL',\n",
       " 'BMIBL',\n",
       " 'BMIBLGR1',\n",
       " 'HEIGHTBL',\n",
       " 'WEIGHTBL',\n",
       " 'EDUCLVL',\n",
       " 'DISONSDT',\n",
       " 'DURDIS',\n",
       " 'DURDSGR1',\n",
       " 'VISIT1DT',\n",
       " 'RFSTDTC',\n",
       " 'RFENDTC',\n",
       " 'VISNUMEN',\n",
       " 'RFENDT',\n",
       " 'DCDECOD',\n",
       " 'EOSSTT',\n",
       " 'DCSREAS',\n",
       " 'MMSETOT']"
      ]
     },
     "execution_count": 104,
     "metadata": {},
     "output_type": "execute_result"
    }
   ],
   "source": [
    "list(adsl)"
   ]
  },
  {
   "cell_type": "code",
   "execution_count": 105,
   "metadata": {},
   "outputs": [],
   "source": [
    "gg_stat = adsl.groupby([\"TRT01PN\",\"TRT01P\",\"SEX\"])\n"
   ]
  },
  {
   "cell_type": "code",
   "execution_count": 106,
   "metadata": {},
   "outputs": [
    {
     "name": "stderr",
     "output_type": "stream",
     "text": [
      "/opt/tljh/user/lib/python3.6/site-packages/ipykernel_launcher.py:2: FutureWarning: using a dict on a Series for aggregation\n",
      "is deprecated and will be removed in a future version\n",
      "  \n"
     ]
    }
   ],
   "source": [
    "#ggcount = gg_stat[\"SEX\"].count()\n",
    "ggcount = gg_stat[\"SEX\"].agg({\"valn\":\"count\"})"
   ]
  },
  {
   "cell_type": "code",
   "execution_count": 107,
   "metadata": {},
   "outputs": [
    {
     "data": {
      "text/html": [
       "<div>\n",
       "<style scoped>\n",
       "    .dataframe tbody tr th:only-of-type {\n",
       "        vertical-align: middle;\n",
       "    }\n",
       "\n",
       "    .dataframe tbody tr th {\n",
       "        vertical-align: top;\n",
       "    }\n",
       "\n",
       "    .dataframe thead th {\n",
       "        text-align: right;\n",
       "    }\n",
       "</style>\n",
       "<table border=\"1\" class=\"dataframe\">\n",
       "  <thead>\n",
       "    <tr style=\"text-align: right;\">\n",
       "      <th></th>\n",
       "      <th></th>\n",
       "      <th></th>\n",
       "      <th>valn</th>\n",
       "    </tr>\n",
       "    <tr>\n",
       "      <th>TRT01PN</th>\n",
       "      <th>TRT01P</th>\n",
       "      <th>SEX</th>\n",
       "      <th></th>\n",
       "    </tr>\n",
       "  </thead>\n",
       "  <tbody>\n",
       "    <tr>\n",
       "      <th rowspan=\"2\" valign=\"top\">5.397605e-79</th>\n",
       "      <th rowspan=\"2\" valign=\"top\">b'Placebo'</th>\n",
       "      <th>b'F'</th>\n",
       "      <td>53</td>\n",
       "    </tr>\n",
       "    <tr>\n",
       "      <th>b'M'</th>\n",
       "      <td>33</td>\n",
       "    </tr>\n",
       "    <tr>\n",
       "      <th rowspan=\"2\" valign=\"top\">5.400000e+01</th>\n",
       "      <th rowspan=\"2\" valign=\"top\">b'Xanomeline Low Dose'</th>\n",
       "      <th>b'F'</th>\n",
       "      <td>50</td>\n",
       "    </tr>\n",
       "    <tr>\n",
       "      <th>b'M'</th>\n",
       "      <td>34</td>\n",
       "    </tr>\n",
       "    <tr>\n",
       "      <th rowspan=\"2\" valign=\"top\">8.100000e+01</th>\n",
       "      <th rowspan=\"2\" valign=\"top\">b'Xanomeline High Dose'</th>\n",
       "      <th>b'F'</th>\n",
       "      <td>40</td>\n",
       "    </tr>\n",
       "    <tr>\n",
       "      <th>b'M'</th>\n",
       "      <td>44</td>\n",
       "    </tr>\n",
       "  </tbody>\n",
       "</table>\n",
       "</div>"
      ],
      "text/plain": [
       "                                           valn\n",
       "TRT01PN      TRT01P                  SEX       \n",
       "5.397605e-79 b'Placebo'              b'F'    53\n",
       "                                     b'M'    33\n",
       "5.400000e+01 b'Xanomeline Low Dose'  b'F'    50\n",
       "                                     b'M'    34\n",
       "8.100000e+01 b'Xanomeline High Dose' b'F'    40\n",
       "                                     b'M'    44"
      ]
     },
     "execution_count": 107,
     "metadata": {},
     "output_type": "execute_result"
    }
   ],
   "source": [
    "ggcount"
   ]
  },
  {
   "cell_type": "code",
   "execution_count": 108,
   "metadata": {},
   "outputs": [
    {
     "data": {
      "text/plain": [
       "TRT01PN       TRT01P                   SEX \n",
       "5.397605e-79  b'Placebo'               b'F'    53\n",
       "                                       b'M'    33\n",
       "5.400000e+01  b'Xanomeline Low Dose'   b'F'    50\n",
       "                                       b'M'    34\n",
       "8.100000e+01  b'Xanomeline High Dose'  b'F'    40\n",
       "                                       b'M'    44\n",
       "Name: SEX, dtype: int64"
      ]
     },
     "execution_count": 108,
     "metadata": {},
     "output_type": "execute_result"
    }
   ],
   "source": [
    "gg_stat[\"SEX\"].size() # same as above"
   ]
  },
  {
   "cell_type": "code",
   "execution_count": 109,
   "metadata": {},
   "outputs": [
    {
     "data": {
      "text/plain": [
       "pandas.core.frame.DataFrame"
      ]
     },
     "execution_count": 109,
     "metadata": {},
     "output_type": "execute_result"
    }
   ],
   "source": [
    "type(ggcount)"
   ]
  },
  {
   "cell_type": "code",
   "execution_count": 110,
   "metadata": {},
   "outputs": [
    {
     "data": {
      "text/html": [
       "<div>\n",
       "<style scoped>\n",
       "    .dataframe tbody tr th:only-of-type {\n",
       "        vertical-align: middle;\n",
       "    }\n",
       "\n",
       "    .dataframe tbody tr th {\n",
       "        vertical-align: top;\n",
       "    }\n",
       "\n",
       "    .dataframe thead th {\n",
       "        text-align: right;\n",
       "    }\n",
       "</style>\n",
       "<table border=\"1\" class=\"dataframe\">\n",
       "  <thead>\n",
       "    <tr style=\"text-align: right;\">\n",
       "      <th></th>\n",
       "      <th></th>\n",
       "      <th></th>\n",
       "      <th>valn</th>\n",
       "    </tr>\n",
       "    <tr>\n",
       "      <th>TRT01PN</th>\n",
       "      <th>TRT01P</th>\n",
       "      <th>SEX</th>\n",
       "      <th></th>\n",
       "    </tr>\n",
       "  </thead>\n",
       "  <tbody>\n",
       "    <tr>\n",
       "      <th rowspan=\"2\" valign=\"top\">5.397605e-79</th>\n",
       "      <th rowspan=\"2\" valign=\"top\">b'Placebo'</th>\n",
       "      <th>b'F'</th>\n",
       "      <td>53</td>\n",
       "    </tr>\n",
       "    <tr>\n",
       "      <th>b'M'</th>\n",
       "      <td>33</td>\n",
       "    </tr>\n",
       "    <tr>\n",
       "      <th rowspan=\"2\" valign=\"top\">5.400000e+01</th>\n",
       "      <th rowspan=\"2\" valign=\"top\">b'Xanomeline Low Dose'</th>\n",
       "      <th>b'F'</th>\n",
       "      <td>50</td>\n",
       "    </tr>\n",
       "    <tr>\n",
       "      <th>b'M'</th>\n",
       "      <td>34</td>\n",
       "    </tr>\n",
       "    <tr>\n",
       "      <th rowspan=\"2\" valign=\"top\">8.100000e+01</th>\n",
       "      <th rowspan=\"2\" valign=\"top\">b'Xanomeline High Dose'</th>\n",
       "      <th>b'F'</th>\n",
       "      <td>40</td>\n",
       "    </tr>\n",
       "    <tr>\n",
       "      <th>b'M'</th>\n",
       "      <td>44</td>\n",
       "    </tr>\n",
       "  </tbody>\n",
       "</table>\n",
       "</div>"
      ],
      "text/plain": [
       "                                           valn\n",
       "TRT01PN      TRT01P                  SEX       \n",
       "5.397605e-79 b'Placebo'              b'F'    53\n",
       "                                     b'M'    33\n",
       "5.400000e+01 b'Xanomeline Low Dose'  b'F'    50\n",
       "                                     b'M'    34\n",
       "8.100000e+01 b'Xanomeline High Dose' b'F'    40\n",
       "                                     b'M'    44"
      ]
     },
     "execution_count": 110,
     "metadata": {},
     "output_type": "execute_result"
    }
   ],
   "source": [
    "ggcount"
   ]
  },
  {
   "cell_type": "code",
   "execution_count": 111,
   "metadata": {},
   "outputs": [
    {
     "data": {
      "text/plain": [
       "['valn']"
      ]
     },
     "execution_count": 111,
     "metadata": {},
     "output_type": "execute_result"
    }
   ],
   "source": [
    "list(ggcount)"
   ]
  },
  {
   "cell_type": "code",
   "execution_count": 112,
   "metadata": {},
   "outputs": [],
   "source": [
    "ggg = pd.DataFrame(ggcount)"
   ]
  },
  {
   "cell_type": "code",
   "execution_count": 113,
   "metadata": {},
   "outputs": [],
   "source": [
    "ggg.reset_index(inplace=True)"
   ]
  },
  {
   "cell_type": "code",
   "execution_count": 114,
   "metadata": {},
   "outputs": [
    {
     "data": {
      "text/html": [
       "<div>\n",
       "<style scoped>\n",
       "    .dataframe tbody tr th:only-of-type {\n",
       "        vertical-align: middle;\n",
       "    }\n",
       "\n",
       "    .dataframe tbody tr th {\n",
       "        vertical-align: top;\n",
       "    }\n",
       "\n",
       "    .dataframe thead th {\n",
       "        text-align: right;\n",
       "    }\n",
       "</style>\n",
       "<table border=\"1\" class=\"dataframe\">\n",
       "  <thead>\n",
       "    <tr style=\"text-align: right;\">\n",
       "      <th></th>\n",
       "      <th>TRT01PN</th>\n",
       "      <th>TRT01P</th>\n",
       "      <th>SEX</th>\n",
       "      <th>valn</th>\n",
       "    </tr>\n",
       "  </thead>\n",
       "  <tbody>\n",
       "    <tr>\n",
       "      <th>0</th>\n",
       "      <td>5.397605e-79</td>\n",
       "      <td>b'Placebo'</td>\n",
       "      <td>b'F'</td>\n",
       "      <td>53</td>\n",
       "    </tr>\n",
       "    <tr>\n",
       "      <th>1</th>\n",
       "      <td>5.397605e-79</td>\n",
       "      <td>b'Placebo'</td>\n",
       "      <td>b'M'</td>\n",
       "      <td>33</td>\n",
       "    </tr>\n",
       "    <tr>\n",
       "      <th>2</th>\n",
       "      <td>5.400000e+01</td>\n",
       "      <td>b'Xanomeline Low Dose'</td>\n",
       "      <td>b'F'</td>\n",
       "      <td>50</td>\n",
       "    </tr>\n",
       "    <tr>\n",
       "      <th>3</th>\n",
       "      <td>5.400000e+01</td>\n",
       "      <td>b'Xanomeline Low Dose'</td>\n",
       "      <td>b'M'</td>\n",
       "      <td>34</td>\n",
       "    </tr>\n",
       "    <tr>\n",
       "      <th>4</th>\n",
       "      <td>8.100000e+01</td>\n",
       "      <td>b'Xanomeline High Dose'</td>\n",
       "      <td>b'F'</td>\n",
       "      <td>40</td>\n",
       "    </tr>\n",
       "    <tr>\n",
       "      <th>5</th>\n",
       "      <td>8.100000e+01</td>\n",
       "      <td>b'Xanomeline High Dose'</td>\n",
       "      <td>b'M'</td>\n",
       "      <td>44</td>\n",
       "    </tr>\n",
       "  </tbody>\n",
       "</table>\n",
       "</div>"
      ],
      "text/plain": [
       "        TRT01PN                   TRT01P   SEX  valn\n",
       "0  5.397605e-79               b'Placebo'  b'F'    53\n",
       "1  5.397605e-79               b'Placebo'  b'M'    33\n",
       "2  5.400000e+01   b'Xanomeline Low Dose'  b'F'    50\n",
       "3  5.400000e+01   b'Xanomeline Low Dose'  b'M'    34\n",
       "4  8.100000e+01  b'Xanomeline High Dose'  b'F'    40\n",
       "5  8.100000e+01  b'Xanomeline High Dose'  b'M'    44"
      ]
     },
     "execution_count": 114,
     "metadata": {},
     "output_type": "execute_result"
    }
   ],
   "source": [
    "ggg"
   ]
  },
  {
   "cell_type": "code",
   "execution_count": 115,
   "metadata": {},
   "outputs": [
    {
     "data": {
      "text/plain": [
       "pandas.core.frame.DataFrame"
      ]
     },
     "execution_count": 115,
     "metadata": {},
     "output_type": "execute_result"
    }
   ],
   "source": [
    "type(ggg)"
   ]
  },
  {
   "cell_type": "code",
   "execution_count": 116,
   "metadata": {},
   "outputs": [
    {
     "data": {
      "text/plain": [
       "['TRT01PN', 'TRT01P', 'SEX', 'valn']"
      ]
     },
     "execution_count": 116,
     "metadata": {},
     "output_type": "execute_result"
    }
   ],
   "source": [
    "list(ggg)"
   ]
  },
  {
   "cell_type": "code",
   "execution_count": 117,
   "metadata": {},
   "outputs": [],
   "source": [
    "ggg[\"var\"] = \"SEX\""
   ]
  },
  {
   "cell_type": "code",
   "execution_count": 118,
   "metadata": {},
   "outputs": [],
   "source": [
    "ggg[\"varn\"] = 2"
   ]
  },
  {
   "cell_type": "code",
   "execution_count": 119,
   "metadata": {},
   "outputs": [
    {
     "data": {
      "text/html": [
       "<div>\n",
       "<style scoped>\n",
       "    .dataframe tbody tr th:only-of-type {\n",
       "        vertical-align: middle;\n",
       "    }\n",
       "\n",
       "    .dataframe tbody tr th {\n",
       "        vertical-align: top;\n",
       "    }\n",
       "\n",
       "    .dataframe thead th {\n",
       "        text-align: right;\n",
       "    }\n",
       "</style>\n",
       "<table border=\"1\" class=\"dataframe\">\n",
       "  <thead>\n",
       "    <tr style=\"text-align: right;\">\n",
       "      <th></th>\n",
       "      <th>TRT01PN</th>\n",
       "      <th>TRT01P</th>\n",
       "      <th>SEX</th>\n",
       "      <th>valn</th>\n",
       "      <th>var</th>\n",
       "      <th>varn</th>\n",
       "    </tr>\n",
       "  </thead>\n",
       "  <tbody>\n",
       "    <tr>\n",
       "      <th>0</th>\n",
       "      <td>5.397605e-79</td>\n",
       "      <td>b'Placebo'</td>\n",
       "      <td>b'F'</td>\n",
       "      <td>53</td>\n",
       "      <td>SEX</td>\n",
       "      <td>2</td>\n",
       "    </tr>\n",
       "    <tr>\n",
       "      <th>1</th>\n",
       "      <td>5.397605e-79</td>\n",
       "      <td>b'Placebo'</td>\n",
       "      <td>b'M'</td>\n",
       "      <td>33</td>\n",
       "      <td>SEX</td>\n",
       "      <td>2</td>\n",
       "    </tr>\n",
       "    <tr>\n",
       "      <th>2</th>\n",
       "      <td>5.400000e+01</td>\n",
       "      <td>b'Xanomeline Low Dose'</td>\n",
       "      <td>b'F'</td>\n",
       "      <td>50</td>\n",
       "      <td>SEX</td>\n",
       "      <td>2</td>\n",
       "    </tr>\n",
       "    <tr>\n",
       "      <th>3</th>\n",
       "      <td>5.400000e+01</td>\n",
       "      <td>b'Xanomeline Low Dose'</td>\n",
       "      <td>b'M'</td>\n",
       "      <td>34</td>\n",
       "      <td>SEX</td>\n",
       "      <td>2</td>\n",
       "    </tr>\n",
       "    <tr>\n",
       "      <th>4</th>\n",
       "      <td>8.100000e+01</td>\n",
       "      <td>b'Xanomeline High Dose'</td>\n",
       "      <td>b'F'</td>\n",
       "      <td>40</td>\n",
       "      <td>SEX</td>\n",
       "      <td>2</td>\n",
       "    </tr>\n",
       "    <tr>\n",
       "      <th>5</th>\n",
       "      <td>8.100000e+01</td>\n",
       "      <td>b'Xanomeline High Dose'</td>\n",
       "      <td>b'M'</td>\n",
       "      <td>44</td>\n",
       "      <td>SEX</td>\n",
       "      <td>2</td>\n",
       "    </tr>\n",
       "  </tbody>\n",
       "</table>\n",
       "</div>"
      ],
      "text/plain": [
       "        TRT01PN                   TRT01P   SEX  valn  var  varn\n",
       "0  5.397605e-79               b'Placebo'  b'F'    53  SEX     2\n",
       "1  5.397605e-79               b'Placebo'  b'M'    33  SEX     2\n",
       "2  5.400000e+01   b'Xanomeline Low Dose'  b'F'    50  SEX     2\n",
       "3  5.400000e+01   b'Xanomeline Low Dose'  b'M'    34  SEX     2\n",
       "4  8.100000e+01  b'Xanomeline High Dose'  b'F'    40  SEX     2\n",
       "5  8.100000e+01  b'Xanomeline High Dose'  b'M'    44  SEX     2"
      ]
     },
     "execution_count": 119,
     "metadata": {},
     "output_type": "execute_result"
    }
   ],
   "source": [
    "ggg"
   ]
  },
  {
   "cell_type": "code",
   "execution_count": 120,
   "metadata": {},
   "outputs": [],
   "source": [
    "ggg[\"stats\"] = \"freq\""
   ]
  },
  {
   "cell_type": "code",
   "execution_count": 121,
   "metadata": {},
   "outputs": [],
   "source": [
    "ggg[\"statn\"] = \"111\""
   ]
  },
  {
   "cell_type": "code",
   "execution_count": 122,
   "metadata": {},
   "outputs": [],
   "source": [
    "ggg.loc[ggg[\"SEX\"] == b\"F\",\"statlabel\"] = \"Female\"\n",
    "ggg.loc[ggg[\"SEX\"] == b\"M\",\"statlabel\"] = \"Male\"\n",
    "# setting values using loc\n",
    "# https://www.shanelynn.ie/select-pandas-dataframe-rows-and-columns-using-iloc-loc-and-ix/\n",
    "\n",
    "# categorical data ordering\n",
    "# http://pbpython.com/categorical-encoding.html\n",
    "# http://benalexkeen.com/mapping-categorical-data-in-pandas/\n"
   ]
  },
  {
   "cell_type": "code",
   "execution_count": 123,
   "metadata": {},
   "outputs": [
    {
     "data": {
      "text/html": [
       "<div>\n",
       "<style scoped>\n",
       "    .dataframe tbody tr th:only-of-type {\n",
       "        vertical-align: middle;\n",
       "    }\n",
       "\n",
       "    .dataframe tbody tr th {\n",
       "        vertical-align: top;\n",
       "    }\n",
       "\n",
       "    .dataframe thead th {\n",
       "        text-align: right;\n",
       "    }\n",
       "</style>\n",
       "<table border=\"1\" class=\"dataframe\">\n",
       "  <thead>\n",
       "    <tr style=\"text-align: right;\">\n",
       "      <th></th>\n",
       "      <th>TRT01PN</th>\n",
       "      <th>TRT01P</th>\n",
       "      <th>SEX</th>\n",
       "      <th>valn</th>\n",
       "      <th>var</th>\n",
       "      <th>varn</th>\n",
       "      <th>stats</th>\n",
       "      <th>statn</th>\n",
       "      <th>statlabel</th>\n",
       "    </tr>\n",
       "  </thead>\n",
       "  <tbody>\n",
       "    <tr>\n",
       "      <th>0</th>\n",
       "      <td>5.397605e-79</td>\n",
       "      <td>b'Placebo'</td>\n",
       "      <td>b'F'</td>\n",
       "      <td>53</td>\n",
       "      <td>SEX</td>\n",
       "      <td>2</td>\n",
       "      <td>freq</td>\n",
       "      <td>111</td>\n",
       "      <td>Female</td>\n",
       "    </tr>\n",
       "    <tr>\n",
       "      <th>1</th>\n",
       "      <td>5.397605e-79</td>\n",
       "      <td>b'Placebo'</td>\n",
       "      <td>b'M'</td>\n",
       "      <td>33</td>\n",
       "      <td>SEX</td>\n",
       "      <td>2</td>\n",
       "      <td>freq</td>\n",
       "      <td>111</td>\n",
       "      <td>Male</td>\n",
       "    </tr>\n",
       "    <tr>\n",
       "      <th>2</th>\n",
       "      <td>5.400000e+01</td>\n",
       "      <td>b'Xanomeline Low Dose'</td>\n",
       "      <td>b'F'</td>\n",
       "      <td>50</td>\n",
       "      <td>SEX</td>\n",
       "      <td>2</td>\n",
       "      <td>freq</td>\n",
       "      <td>111</td>\n",
       "      <td>Female</td>\n",
       "    </tr>\n",
       "    <tr>\n",
       "      <th>3</th>\n",
       "      <td>5.400000e+01</td>\n",
       "      <td>b'Xanomeline Low Dose'</td>\n",
       "      <td>b'M'</td>\n",
       "      <td>34</td>\n",
       "      <td>SEX</td>\n",
       "      <td>2</td>\n",
       "      <td>freq</td>\n",
       "      <td>111</td>\n",
       "      <td>Male</td>\n",
       "    </tr>\n",
       "    <tr>\n",
       "      <th>4</th>\n",
       "      <td>8.100000e+01</td>\n",
       "      <td>b'Xanomeline High Dose'</td>\n",
       "      <td>b'F'</td>\n",
       "      <td>40</td>\n",
       "      <td>SEX</td>\n",
       "      <td>2</td>\n",
       "      <td>freq</td>\n",
       "      <td>111</td>\n",
       "      <td>Female</td>\n",
       "    </tr>\n",
       "    <tr>\n",
       "      <th>5</th>\n",
       "      <td>8.100000e+01</td>\n",
       "      <td>b'Xanomeline High Dose'</td>\n",
       "      <td>b'M'</td>\n",
       "      <td>44</td>\n",
       "      <td>SEX</td>\n",
       "      <td>2</td>\n",
       "      <td>freq</td>\n",
       "      <td>111</td>\n",
       "      <td>Male</td>\n",
       "    </tr>\n",
       "  </tbody>\n",
       "</table>\n",
       "</div>"
      ],
      "text/plain": [
       "        TRT01PN                   TRT01P   SEX  valn  var  varn stats statn  \\\n",
       "0  5.397605e-79               b'Placebo'  b'F'    53  SEX     2  freq   111   \n",
       "1  5.397605e-79               b'Placebo'  b'M'    33  SEX     2  freq   111   \n",
       "2  5.400000e+01   b'Xanomeline Low Dose'  b'F'    50  SEX     2  freq   111   \n",
       "3  5.400000e+01   b'Xanomeline Low Dose'  b'M'    34  SEX     2  freq   111   \n",
       "4  8.100000e+01  b'Xanomeline High Dose'  b'F'    40  SEX     2  freq   111   \n",
       "5  8.100000e+01  b'Xanomeline High Dose'  b'M'    44  SEX     2  freq   111   \n",
       "\n",
       "  statlabel  \n",
       "0    Female  \n",
       "1      Male  \n",
       "2    Female  \n",
       "3      Male  \n",
       "4    Female  \n",
       "5      Male  "
      ]
     },
     "execution_count": 123,
     "metadata": {},
     "output_type": "execute_result"
    }
   ],
   "source": [
    "ggg\n"
   ]
  },
  {
   "cell_type": "code",
   "execution_count": 124,
   "metadata": {},
   "outputs": [
    {
     "data": {
      "text/plain": [
       "TRT01PN      float64\n",
       "TRT01P        object\n",
       "SEX           object\n",
       "valn           int64\n",
       "var           object\n",
       "varn           int64\n",
       "stats         object\n",
       "statn         object\n",
       "statlabel     object\n",
       "dtype: object"
      ]
     },
     "execution_count": 124,
     "metadata": {},
     "output_type": "execute_result"
    }
   ],
   "source": [
    "ggg.dtypes"
   ]
  },
  {
   "cell_type": "code",
   "execution_count": 129,
   "metadata": {},
   "outputs": [
    {
     "data": {
      "text/html": [
       "<div>\n",
       "<style scoped>\n",
       "    .dataframe tbody tr th:only-of-type {\n",
       "        vertical-align: middle;\n",
       "    }\n",
       "\n",
       "    .dataframe tbody tr th {\n",
       "        vertical-align: top;\n",
       "    }\n",
       "\n",
       "    .dataframe thead th {\n",
       "        text-align: right;\n",
       "    }\n",
       "</style>\n",
       "<table border=\"1\" class=\"dataframe\">\n",
       "  <thead>\n",
       "    <tr style=\"text-align: right;\">\n",
       "      <th></th>\n",
       "      <th>byvar1n</th>\n",
       "      <th>byvar1</th>\n",
       "      <th>byvar2n</th>\n",
       "      <th>byvar2</th>\n",
       "      <th>varn</th>\n",
       "      <th>var</th>\n",
       "      <th>varlabel</th>\n",
       "      <th>statn</th>\n",
       "      <th>stats</th>\n",
       "      <th>statlabel</th>\n",
       "      <th>TRTP01PN</th>\n",
       "      <th>TRT01P</th>\n",
       "      <th>valn</th>\n",
       "    </tr>\n",
       "  </thead>\n",
       "  <tbody>\n",
       "  </tbody>\n",
       "</table>\n",
       "</div>"
      ],
      "text/plain": [
       "Empty DataFrame\n",
       "Columns: [byvar1n, byvar1, byvar2n, byvar2, varn, var, varlabel, statn, stats, statlabel, TRTP01PN, TRT01P, valn]\n",
       "Index: []"
      ]
     },
     "execution_count": 129,
     "metadata": {},
     "output_type": "execute_result"
    }
   ],
   "source": [
    "#shell dataframe\n",
    "dtypes = np.dtype([\n",
    "          ('byvar1n', int),\n",
    "          ('byvar1', str),\n",
    "          ('byvar2n', int),\n",
    "          ('byvar2', str),\n",
    "          ('varn', int),\n",
    "          ('var', str),\n",
    "          ('varlabel', str),\n",
    "          ('statn', int),\n",
    "          ('stats', str),\n",
    "          ('statlabel', str),\n",
    "          ('TRTP01PN', int),\n",
    "          ('TRT01P', str),\n",
    "          ('valn', float),\n",
    "          \n",
    "          ])\n",
    "data = np.empty(0, dtype=dtypes)\n",
    "shell = pd.DataFrame(data)\n",
    "shell"
   ]
  },
  {
   "cell_type": "code",
   "execution_count": null,
   "metadata": {},
   "outputs": [],
   "source": []
  }
 ],
 "metadata": {
  "kernelspec": {
   "display_name": "Python 3",
   "language": "python",
   "name": "python3"
  },
  "language_info": {
   "codemirror_mode": {
    "name": "ipython",
    "version": 3
   },
   "file_extension": ".py",
   "mimetype": "text/x-python",
   "name": "python",
   "nbconvert_exporter": "python",
   "pygments_lexer": "ipython3",
   "version": "3.6.5"
  }
 },
 "nbformat": 4,
 "nbformat_minor": 2
}
