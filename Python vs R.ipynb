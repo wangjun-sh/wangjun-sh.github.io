{
 "cells": [
  {
   "cell_type": "markdown",
   "metadata": {},
   "source": [
    "# note, please use plotnine in Python as R ggplot2 alternative\n",
    "\n",
    "\n",
    "## python downside, no magic pipe from R, \"%>%\""
   ]
  },
  {
   "cell_type": "markdown",
   "metadata": {},
   "source": [
    "# R vs Python - a One-on-One Comparison\n",
    "https://shiring.github.io/r_vs_python/2017/01/22/R_vs_Py_post\n",
    "    "
   ]
  },
  {
   "cell_type": "markdown",
   "metadata": {},
   "source": [
    "# Python vs R: Head to Head Data Analysis\n",
    "https://www.dataquest.io/blog/python-vs-r/"
   ]
  },
  {
   "cell_type": "markdown",
   "metadata": {},
   "source": [
    "# R and pandas and what I've learned about each\n",
    "http://blog.yhat.com/posts/R-and-pandas-and-what-ive-learned-about-each.html\n",
    "    \n"
   ]
  },
  {
   "cell_type": "markdown",
   "metadata": {},
   "source": [
    "# A Quick Introduction to the “Pandas” Python Library\n",
    "https://towardsdatascience.com/a-quick-introduction-to-the-pandas-python-library-f1b678f34673\n",
    "    \n",
    "# Pandas tips and tricks\n",
    "https://towardsdatascience.com/pandas-tips-and-tricks-33bcc8a40bb9\n",
    "    \n",
    "    \n",
    "# Merge and Join DataFrames with Pandas in Python\n",
    "https://www.shanelynn.ie/merge-join-dataframes-python-pandas-index-1/\n",
    "    \n",
    "\n"
   ]
  },
  {
   "cell_type": "code",
   "execution_count": null,
   "metadata": {},
   "outputs": [],
   "source": []
  }
 ],
 "metadata": {
  "kernelspec": {
   "display_name": "Python 3",
   "language": "python",
   "name": "python3"
  },
  "language_info": {
   "codemirror_mode": {
    "name": "ipython",
    "version": 3
   },
   "file_extension": ".py",
   "mimetype": "text/x-python",
   "name": "python",
   "nbconvert_exporter": "python",
   "pygments_lexer": "ipython3",
   "version": "3.6.5"
  }
 },
 "nbformat": 4,
 "nbformat_minor": 2
}
