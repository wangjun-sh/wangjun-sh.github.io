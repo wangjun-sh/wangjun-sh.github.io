{
 "cells": [
  {
   "cell_type": "markdown",
   "metadata": {},
   "source": [
    "# Plotting, please use plotnine (like ggplot2 in R, it is the implementation of Grammar of Graphics in Python)\n"
   ]
  },
  {
   "cell_type": "markdown",
   "metadata": {},
   "source": [
    "# Data Analysis with Python and pandas using Jupyter Notebook\n",
    "https://dev.socrata.com/blog/2016/02/01/pandas-and-jupyter-notebook.html\n",
    "    "
   ]
  },
  {
   "cell_type": "markdown",
   "metadata": {},
   "source": [
    "# Hello pandas\n",
    "## http://www.firstpythonnotebook.org/pandas/\n",
    "    __[# Hello pandas](http://www.firstpythonnotebook.org/pandas/)__\n",
    "    "
   ]
  },
  {
   "cell_type": "markdown",
   "metadata": {},
   "source": [
    "* Pandas cookbook\n",
    "https://github.com/jvns/pandas-cookbook\n",
    "    "
   ]
  },
  {
   "cell_type": "markdown",
   "metadata": {},
   "source": [
    "* Pandas in Jupyter - Quickstart and Useful Snippets\n",
    "https://nikgrozev.com/2015/12/27/pandas-in-jupyter-quickstart-and-useful-snippets/\n",
    "    "
   ]
  },
  {
   "cell_type": "markdown",
   "metadata": {},
   "source": [
    "* Exploratory Data Analysis with Pandas using Jupyter Notebooks\n",
    "https://towardsdatascience.com/exploratory-data-analysis-with-pandas-and-jupyter-notebooks-36008090d813\n",
    "    "
   ]
  },
  {
   "cell_type": "markdown",
   "metadata": {},
   "source": [
    "* Pandas Tutorial: Data analysis with Python: Part 1\n",
    "        https://www.dataquest.io/blog/pandas-python-tutorial/\n",
    "            "
   ]
  },
  {
   "cell_type": "markdown",
   "metadata": {},
   "source": [
    "* HOW TO USE JUPYTER NOTEBOOKS AND PANDAS TO ANALYSE DATA\n",
    "https://blog.webkid.io/analysing-data-with-jupyter-notebooks-and-pandas/\n",
    "    "
   ]
  },
  {
   "cell_type": "markdown",
   "metadata": {},
   "source": [
    "* Top 8 resources for learning data analysis with pandas\n",
    "https://www.dataschool.io/best-python-pandas-resources/\n",
    "    "
   ]
  },
  {
   "cell_type": "markdown",
   "metadata": {},
   "source": [
    "# 28 Jupyter Notebook tips, tricks, and shortcuts\n",
    "https://www.dataquest.io/blog/jupyter-notebook-tips-tricks-shortcuts/"
   ]
  },
  {
   "cell_type": "markdown",
   "metadata": {},
   "source": [
    "# Markdown Cells\n",
    "https://jupyter-notebook.readthedocs.io/en/stable/examples/Notebook/Working%20With%20Markdown%20Cells.html#Headings\n",
    "    "
   ]
  },
  {
   "cell_type": "markdown",
   "metadata": {},
   "source": [
    "# Hello Markdown\n",
    "http://www.firstpythonnotebook.org/markdown/\n",
    "    "
   ]
  },
  {
   "cell_type": "code",
   "execution_count": null,
   "metadata": {},
   "outputs": [],
   "source": []
  }
 ],
 "metadata": {
  "kernelspec": {
   "display_name": "Python 3",
   "language": "python",
   "name": "python3"
  },
  "language_info": {
   "codemirror_mode": {
    "name": "ipython",
    "version": 3
   },
   "file_extension": ".py",
   "mimetype": "text/x-python",
   "name": "python",
   "nbconvert_exporter": "python",
   "pygments_lexer": "ipython3",
   "version": "3.6.5"
  }
 },
 "nbformat": 4,
 "nbformat_minor": 2
}
