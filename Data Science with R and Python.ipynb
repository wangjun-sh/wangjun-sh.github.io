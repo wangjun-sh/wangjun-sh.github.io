{
 "cells": [
  {
   "cell_type": "markdown",
   "metadata": {},
   "source": [
    "#Kaggle for data science\n",
    "\n",
    "## Introduction to Data Science with R - Data Analysis Part 1\n",
    "https://www.youtube.com/watch?v=32o0DnuRjfg&t=30s\n",
    "\n",
    "## all 7 episodes from David Langer:    \n",
    "https://www.youtube.com/channel/UCRhUp6SYaJ7zme4Bjwt28DQ\n",
    "    \n",
    "    \n"
   ]
  },
  {
   "cell_type": "markdown",
   "metadata": {},
   "source": [
    "#data science with Python\n",
    "## Data Science With Python | Python for Data Science | Python Data Science Tutorial | Simplilearn\n",
    "https://www.youtube.com/watch?v=mkv5mxYu0Wk\n",
    "    \n",
    "## from datacamp: Python For Data Science: Introduction\n",
    "https://www.youtube.com/watch?v=-Rf4fZDQ0yw&list=PLjgj6kdf_snaw8QnlhK5f3DzFDFKDU5f4\n",
    "    \n",
    "## Python For Data Science - 2018 | Become Data Scientist\n",
    "https://www.youtube.com/watch?v=B46jb5Q2NXE\n",
    "    \n",
    "## Python Data Science with pandas\n",
    "https://www.youtube.com/watch?v=ikOEn8jY2Is\n",
    "    \n",
    "\n",
    "\n",
    "\n"
   ]
  },
  {
   "cell_type": "code",
   "execution_count": null,
   "metadata": {},
   "outputs": [],
   "source": []
  }
 ],
 "metadata": {
  "kernelspec": {
   "display_name": "Python 3",
   "language": "python",
   "name": "python3"
  },
  "language_info": {
   "codemirror_mode": {
    "name": "ipython",
    "version": 3
   },
   "file_extension": ".py",
   "mimetype": "text/x-python",
   "name": "python",
   "nbconvert_exporter": "python",
   "pygments_lexer": "ipython3",
   "version": "3.6.5"
  }
 },
 "nbformat": 4,
 "nbformat_minor": 2
}
